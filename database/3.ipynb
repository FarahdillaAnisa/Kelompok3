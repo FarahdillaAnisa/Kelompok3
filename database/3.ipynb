{
 "cells": [
  {
   "cell_type": "code",
   "execution_count": 2,
   "metadata": {},
   "outputs": [
    {
     "name": "stdout",
     "output_type": "stream",
     "text": [
      "Sebelum\n",
      "A 70\n",
      "B 10\n",
      "Sesudah\n",
      "A 10\n",
      "B 70\n"
     ]
    }
   ],
   "source": [
    "A=70\n",
    "B=10\n",
    "print(\"Sebelum\")\n",
    "print(\"A\",A)\n",
    "print(\"B\",B)\n",
    "C=A\n",
    "A=B\n",
    "B=C\n",
    "print(\"Sesudah\")\n",
    "print(\"A\",A)\n",
    "print(\"B\",B)"
   ]
  },
  {
   "cell_type": "code",
   "execution_count": null,
   "metadata": {},
   "outputs": [],
   "source": [
    "A=[1,2,3,4,5]\n",
    "B=[10,9,8,7,6]\n",
    "pilihan = input(\"pilhan 1 atau 2 = \")\n",
    "if(pilihan == \"1\"):\n",
    "    for i in range(len(A)):\n",
    "        print(A[i]+B[i])\n",
    "elif(pilihan == \"2\"):\n",
    "    for i in range(len(A)):\n",
    "        print((A[i]**2)+(B[i]**2))\n",
    "else:\n",
    "    print(\"Pilihan tidak ada\")"
   ]
  },
  {
   "cell_type": "code",
   "execution_count": 9,
   "metadata": {},
   "outputs": [],
   "source": [
    "class kura_kura:\n",
    "    def set_alat_gerak(self,alat_gerak):\n",
    "        self.alat_gerak = alat_gerak\n",
    "        \n",
    "    def bergerak(self):\n",
    "        return \"kura-kura bergerak dengan \"+self.alat_gerak\n",
    "        \n",
    "class kura2sayap(kura_kura):\n",
    "    def __init__(self):\n",
    "        self.jenis = \"sayap\"\n",
    "        \n",
    "    def set_alat_gerak(self,alat_gerak):\n",
    "        self.alat_gerak = alat_gerak    \n",
    "        \n",
    "    def bergerak(self):\n",
    "        return \"kura-kura \"+self.jenis+\" bergerak dengan \"+self.alat_gerak  \n",
    "    \n",
    "class kura2roket(kura_kura):\n",
    "    def __init__(self):\n",
    "        self.jenis = \"roket\"\n",
    "        \n",
    "    def set_alat_gerak(self,alat_gerak):\n",
    "        self.alat_gerak = alat_gerak    \n",
    "        \n",
    "    def bergerak(self):\n",
    "        return \"kura-kura \"+self.jenis+\" bergerak dengan \"+self.alat_gerak      \n",
    "        "
   ]
  },
  {
   "cell_type": "code",
   "execution_count": 8,
   "metadata": {},
   "outputs": [
    {
     "name": "stdout",
     "output_type": "stream",
     "text": [
      "kura-kura bergerak dengan kaki\n",
      "kura-kurasayapbergerak dengan sayap\n",
      "kura-kuraroketbergerak dengan roket\n"
     ]
    }
   ],
   "source": [
    "kura1 = kura_kura()\n",
    "kura2 = kura2sayap()\n",
    "kura3 = kura2roket()\n",
    "\n",
    "kura1.set_alat_gerak(\"kaki\")\n",
    "print(kura1.bergerak())\n",
    "kura2.set_alat_gerak(\"sayap\")\n",
    "print(kura2.bergerak())\n",
    "kura3.set_alat_gerak(\"roket\")\n",
    "print(kura3.bergerak())\n",
    "\n"
   ]
  }
 ],
 "metadata": {
  "kernelspec": {
   "display_name": "Python 3",
   "language": "python",
   "name": "python3"
  }
 },
 "nbformat": 4,
 "nbformat_minor": 2
}
